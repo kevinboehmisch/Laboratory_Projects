{
 "cells": [
  {
   "cell_type": "markdown",
   "id": "ecdc6b10",
   "metadata": {},
   "source": [
    "# Aufgabe2\n",
    "\n",
    "Der schwarze Linienzug in der Abbildung zeigt eine Skizze des Buchstabe \"A\". Der rote Linienzug entsteht \n",
    "durch Rotation des schwarzen im Uhrzeigersinn um \n",
    "20 Grad gegen den Uhrzeigersinn. Erstelle die Skizze in Python, beachte folgendes:\n",
    "\n",
    "- Hinterlegen Sie die Grafik mit Gitterlinien\n",
    "- Stellen Sie die Grafik unverzerrt dar"
   ]
  },
  {
   "cell_type": "code",
   "execution_count": 2,
   "id": "f9cd6abe",
   "metadata": {},
   "outputs": [
    {
     "data": {
      "text/html": [
       "\n",
       "        <iframe\n",
       "            width=\"600\"\n",
       "            height=\"500\"\n",
       "            src=\"Probetestat1_Aufgabe_2.png\"\n",
       "            frameborder=\"0\"\n",
       "            allowfullscreen\n",
       "            \n",
       "        ></iframe>\n",
       "        "
      ],
      "text/plain": [
       "<IPython.lib.display.IFrame at 0x2052186ec90>"
      ]
     },
     "execution_count": 2,
     "metadata": {},
     "output_type": "execute_result"
    }
   ],
   "source": [
    "from IPython.display import IFrame\n",
    "\n",
    "IFrame('Probetestat1_Aufgabe_2.png', width=600, height=500)"
   ]
  },
  {
   "cell_type": "code",
   "execution_count": 8,
   "id": "e16aa075",
   "metadata": {},
   "outputs": [
    {
     "data": {
      "image/png": "[encoded data removed]",
      "text/plain": [
       "<Figure size 283.333x416.667 with 1 Axes>"
      ]
     },
     "metadata": {},
     "output_type": "display_data"
    }
   ],
   "source": [
    "import numpy as np\n",
    "import matplotlib.pyplot as plt\n",
    "\n",
    "#-------------Erstellen des Koordinatensystems--------------\n",
    "\n",
    "#Koordinaten Grundgerüst erstellen\n",
    "x_min, x_max, y_min, y_max = -4, 4.5, -5, 7.5\n",
    "fig, ax = plt.subplots(figsize=(((x_max-x_min)/3), (y_max-y_min)/3))\n",
    "ax.set_aspect('equal')\n",
    "ax.axis([x_min,x_max,y_min,y_max])\n",
    "\n",
    "#Haupt-Gitter erstellen (Hinterlegen des Gitters)\n",
    "x_ticks_major = np.arange(x_min,x_max,1)\n",
    "y_ticks_major = np.arange(y_min,y_max,1)\n",
    "ax.set_xticks(x_ticks_major)\n",
    "ax.set_yticks(y_ticks_major)\n",
    "\n",
    "#Minor-Gitter\n",
    "x_ticks_minor = np.arange(x_min,x_max,0.5)\n",
    "y_ticks_minor = np.arange(y_min,y_max,0.5)\n",
    "ax.set_xticks(x_ticks_minor, minor=True)\n",
    "ax.set_yticks(y_ticks_minor, minor=True)\n",
    "\n",
    "#Gitter anzeigen\n",
    "ax.grid(which='minor',alpha=0.1)\n",
    "ax.grid(which='major',alpha=0.5)\n",
    "\n",
    "\n",
    "#-------------einzeichnen der Grafik---------------\n",
    "\n",
    "#erste Linie\n",
    "x = np.array([-3,0])\n",
    "y = np.array([-3,6])\n",
    "ax.plot(x,y,'-k')\n",
    "\n",
    "#zweite Linie\n",
    "x1 = np.array([0,3])\n",
    "y1 = np.array([6,-3])\n",
    "ax.plot(x1,y1,'-k')\n",
    "\n",
    "#dritte Linie\n",
    "x2 = np.array([-2,2])\n",
    "y2 = np.array([0,0])\n",
    "ax.plot(x2,y2,'-k')\n",
    "\n",
    "#erstellen eines Trennzeichens\n",
    "trennzeichen = np.array([np.nan])\n",
    "\n",
    "#einzelne Linien verbinden\n",
    "x4= np.concatenate((x, trennzeichen, x1, trennzeichen, x2))\n",
    "y4= np.concatenate((y, trennzeichen, y1, trennzeichen, y2))\n",
    "\n",
    "#einzelne Linien in einem Container abspeichern\n",
    "container_x= x4\n",
    "container_y= y4\n",
    "ax.plot(container_x, container_y, '-k') #plotten der Linien\n",
    "\n",
    "\n",
    "#---------------Rotieren der Grafik------------------\n",
    "\n",
    "#Winkel alpha standardmäßig immer gegen Uhrzeigersinn, 20 Grad passt also, Rotationsmatrix 1 zu 1 übernommen aus Formel\n",
    "Winkel_alpha = 20*np.pi/180\n",
    "Rotations_Matrix = np.array([[np.cos(Winkel_alpha), -np.sin(Winkel_alpha)],[np.sin(Winkel_alpha), np.cos(Winkel_alpha)]])\n",
    "\n",
    "#Verbinden zu einer großen Matrix\n",
    "Matrix_aus = np.array([container_x, container_y])\n",
    "\n",
    "#Rotatin der gesamten Matrix\n",
    "Matrix_Rotation = Rotations_Matrix@Matrix_aus\n",
    "\n",
    "#Aufteilen in x und y Werte\n",
    "container_x_Rotiert = Matrix_Rotation[0,:]\n",
    "container_y_Rotiert = Matrix_Rotation[1,:]\n",
    "\n",
    "#plotten der rotierten Darstellung in rot\n",
    "ax.plot(container_x_Rotiert, container_y_Rotiert, '-r')\n",
    "plt.show() #/oder display(fig)\n",
    "\n"
   ]
  },
  {
   "cell_type": "code",
   "execution_count": null,
   "id": "901dff82",
   "metadata": {},
   "outputs": [],
   "source": []
  }
 ],
 "metadata": {
  "kernelspec": {
   "display_name": "Python 3 (ipykernel)",
   "language": "python",
   "name": "python3"
  },
  "language_info": {
   "codemirror_mode": {
    "name": "ipython",
    "version": 3
   },
   "file_extension": ".py",
   "mimetype": "text/x-python",
   "name": "python",
   "nbconvert_exporter": "python",
   "pygments_lexer": "ipython3",
   "version": "3.11.5"
  }
 },
 "nbformat": 4,
 "nbformat_minor": 5
}
