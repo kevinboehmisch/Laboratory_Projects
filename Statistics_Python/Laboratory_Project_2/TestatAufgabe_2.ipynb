{
 "cells": [
  {
   "cell_type": "markdown",
   "id": "a65c3fa7",
   "metadata": {},
   "source": [
    "# Statistik-Labor Testat Aufgabe 2\n",
    "***Hinweise:***\n",
    "- Bitte überprüfen Sie Ihre Resultate vor der Abgabe Ihre Ergebnisse mit den Teilergebnissen aus der Datei ***Teilergebnisse_xy.txt***.\n",
    "- Die Unterlagen sind im **pdf-Format** in Moodle hochgeladen abzugeben. Richtige Lösungen werden nicht mehr an Sie zurückgegeben. Eine Abgabe per Email ist nicht möglich.\n",
    "- Bitte füllen Sie das jeweilige **Deckblatt** mit aus und geben es mit Ihrer Lösung zusammen ab.\n",
    "\n",
    "***Aufgabenstellung:***<br>\n",
    "Untersuchen Sie die Bevölkerungsentwicklung der USA. <br>\n",
    "In der Datei **sr_aufg_2_xy.txt** im Unterverzeichnis **Endziffer_xy** (*„xy“ steht für die beiden Endziffern Ihrer Matrikelnummer*) finden Sie die dafür erforderlichen Daten. <br>\n",
    "Diese Datei enthält zwei Spalten fester Breite: Jahreszahl und Anzahl der Einwohner der USA in Millionen (zu einem festen Stichtag in dem angegebenen Jahr).\n",
    "\n",
    "## a) Daten einlesen\n",
    "Lesen Sie Daten in **Python** bzw. ein **Jupyter Notebook** ein. Speichern Sie sie in einem **Pandas DataFrame** ab."
   ]
  },
  {
   "cell_type": "code",
   "execution_count": 1,
   "id": "27b964d4",
   "metadata": {},
   "outputs": [
    {
     "data": {
      "text/html": [
       "<div>\n",
       "<style scoped>\n",
       "    .dataframe tbody tr th:only-of-type {\n",
       "        vertical-align: middle;\n",
       "    }\n",
       "\n",
       "    .dataframe tbody tr th {\n",
       "        vertical-align: top;\n",
       "    }\n",
       "\n",
       "    .dataframe thead th {\n",
       "        text-align: right;\n",
       "    }\n",
       "</style>\n",
       "<table border=\"1\" class=\"dataframe\">\n",
       "  <thead>\n",
       "    <tr style=\"text-align: right;\">\n",
       "      <th></th>\n",
       "      <th>Jahr</th>\n",
       "      <th>Einwohner</th>\n",
       "    </tr>\n",
       "  </thead>\n",
       "  <tbody>\n",
       "    <tr>\n",
       "      <th>0</th>\n",
       "      <td>1790</td>\n",
       "      <td>3.929214</td>\n",
       "    </tr>\n",
       "    <tr>\n",
       "      <th>1</th>\n",
       "      <td>1800</td>\n",
       "      <td>5.308483</td>\n",
       "    </tr>\n",
       "    <tr>\n",
       "      <th>2</th>\n",
       "      <td>1810</td>\n",
       "      <td>7.239881</td>\n",
       "    </tr>\n",
       "    <tr>\n",
       "      <th>3</th>\n",
       "      <td>1820</td>\n",
       "      <td>9.638453</td>\n",
       "    </tr>\n",
       "    <tr>\n",
       "      <th>4</th>\n",
       "      <td>1830</td>\n",
       "      <td>12.866020</td>\n",
       "    </tr>\n",
       "  </tbody>\n",
       "</table>\n",
       "</div>"
      ],
      "text/plain": [
       "   Jahr  Einwohner\n",
       "0  1790   3.929214\n",
       "1  1800   5.308483\n",
       "2  1810   7.239881\n",
       "3  1820   9.638453\n",
       "4  1830  12.866020"
      ]
     },
     "execution_count": 1,
     "metadata": {},
     "output_type": "execute_result"
    }
   ],
   "source": [
    "import pandas as pd\n",
    "\n",
    "data = pd.read_csv('sr_aufg_2_29.txt', sep='\\s+', decimal=',', header=None, names=['Jahr', 'Einwohner'])\n",
    "data.head(5)"
   ]
  },
  {
   "cell_type": "markdown",
   "id": "1fbf7959",
   "metadata": {},
   "source": [
    "## b) Streudiagramm erstellen\n",
    "Stellen Sie die Bevölkerungsentwicklung in einem Streudiagramm dar."
   ]
  },
  {
   "cell_type": "code",
   "execution_count": 2,
   "id": "b824ac3a",
   "metadata": {},
   "outputs": [
    {
     "data": {
      "image/png": "[encoded data removed]",
      "text/plain": [
       "<Figure size 640x480 with 1 Axes>"
      ]
     },
     "metadata": {},
     "output_type": "display_data"
    }
   ],
   "source": [
    "import matplotlib.pyplot as plt\n",
    "\n",
    "plt.scatter(data['Jahr'],data['Einwohner'], marker='x')\n",
    "plt.xlabel(\"Jahre\")\n",
    "plt.ylabel(\"Einwohner\")\n",
    "plt.show()"
   ]
  },
  {
   "cell_type": "markdown",
   "id": "d901e52f",
   "metadata": {},
   "source": [
    "## c) Regressionskurven bestimmen\n",
    "Untersuchen Sie je nach Matrikelnummer Ihre 5 Funktionen um eine Regressionskurve durch die Punkte zu legen:<br>\n",
    "\n",
    "| Gerade Matrikelnummer-Endung: | Ungerade Matrikelnummer-Endung: |\n",
    "| :- | :- |\n",
    "| Lineare Funktion: $\\;\\;$ $y = ax+b$ | Lineare Funktion: $\\;\\;$ $y = ax+b$ |\n",
    "| Polynom 2. Grades: $y = ax^2+bx+c$ | Polynom 2. Grades: $y = ax^2+bx+c$ |\n",
    "| Polynom 4. Grades: $y=ax^4+bx^3+cx^2+dx+e$ | Polynom 3. Grades: $y=ax^3+bx^2+cx+d$ |\n",
    "| Polynom 6. Grades: $y=ax^6+bx^5+cx^4+dx^3+gx^2+ux+v$ | Polynom 6. Grades: $y=ax^6+bx^5+cx^4+dx^3+gx^2+ux+v$ |\n",
    "| Exponentialfunktion: $y=a \\cdot{\\rm e}^{bx}$ | Logarithmusfunktion: $y=a \\cdot\\ln{(x)}-b$ |\n",
    "\n",
    "Stellen Sie **in einer Tabelle den Regressionstyp** (z.B. lineare Funktion, Polynom 2. Grades, …), die **geschätzten Koeffizienten mit Achsenabschnitt und das Bestimmtheitsmaß** dar.\n",
    "\n",
    "***Tipp:***<br>\n",
    "Verwenden Sie für die Schätzung der Regressionskurve und des Bestimmtheitsmaßes standardisierte Eingangswerte (Jahreszahlen)"
   ]
  },
  {
   "cell_type": "code",
   "execution_count": 16,
   "id": "887e21ef",
   "metadata": {},
   "outputs": [
    {
     "data": {
      "text/html": [
       "<div>\n",
       "<style scoped>\n",
       "    .dataframe tbody tr th:only-of-type {\n",
       "        vertical-align: middle;\n",
       "    }\n",
       "\n",
       "    .dataframe tbody tr th {\n",
       "        vertical-align: top;\n",
       "    }\n",
       "\n",
       "    .dataframe thead th {\n",
       "        text-align: right;\n",
       "    }\n",
       "</style>\n",
       "<table border=\"1\" class=\"dataframe\">\n",
       "  <thead>\n",
       "    <tr style=\"text-align: right;\">\n",
       "      <th></th>\n",
       "      <th>Regressionstyp</th>\n",
       "      <th>Koeffizient</th>\n",
       "      <th>Achsenabschnitt</th>\n",
       "      <th>Bestimmtheitsmaß</th>\n",
       "    </tr>\n",
       "  </thead>\n",
       "  <tbody>\n",
       "    <tr>\n",
       "      <th>0</th>\n",
       "      <td>Lineare Funktion</td>\n",
       "      <td>1.4203</td>\n",
       "      <td>-2590.8692</td>\n",
       "      <td>0.9242</td>\n",
       "    </tr>\n",
       "    <tr>\n",
       "      <th>1</th>\n",
       "      <td>Polynom 2. Grades</td>\n",
       "      <td>[101.2412, 33.5026]</td>\n",
       "      <td>82.2085</td>\n",
       "      <td>0.9992</td>\n",
       "    </tr>\n",
       "    <tr>\n",
       "      <th>2</th>\n",
       "      <td>Polynom 3. Grades</td>\n",
       "      <td>[99.27, 33.51, 1.14]</td>\n",
       "      <td>82.2312</td>\n",
       "      <td>0.9993</td>\n",
       "    </tr>\n",
       "    <tr>\n",
       "      <th>3</th>\n",
       "      <td>Polynom 6. Grades</td>\n",
       "      <td>[96.03, 20.65, 6.46, 13.79, -1.7, -3.62]</td>\n",
       "      <td>84.0672</td>\n",
       "      <td>0.9996</td>\n",
       "    </tr>\n",
       "    <tr>\n",
       "      <th>4</th>\n",
       "      <td>Logarithmusfunktion</td>\n",
       "      <td>[2690.22, -20200.54]</td>\n",
       "      <td>-20200.5366</td>\n",
       "      <td>0.9157</td>\n",
       "    </tr>\n",
       "  </tbody>\n",
       "</table>\n",
       "</div>"
      ],
      "text/plain": [
       "        Regressionstyp                               Koeffizient  \\\n",
       "0     Lineare Funktion                                    1.4203   \n",
       "1    Polynom 2. Grades                       [101.2412, 33.5026]   \n",
       "2    Polynom 3. Grades                      [99.27, 33.51, 1.14]   \n",
       "3    Polynom 6. Grades  [96.03, 20.65, 6.46, 13.79, -1.7, -3.62]   \n",
       "4  Logarithmusfunktion                      [2690.22, -20200.54]   \n",
       "\n",
       "   Achsenabschnitt  Bestimmtheitsmaß  \n",
       "0       -2590.8692            0.9242  \n",
       "1          82.2085            0.9992  \n",
       "2          82.2312            0.9993  \n",
       "3          84.0672            0.9996  \n",
       "4      -20200.5366            0.9157  "
      ]
     },
     "execution_count": 16,
     "metadata": {},
     "output_type": "execute_result"
    }
   ],
   "source": [
    "import numpy as np \n",
    "from sklearn.linear_model import LinearRegression #importier Lineare Regression\n",
    "from sklearn.preprocessing import StandardScaler #um große Zahlen zu standardisieren\n",
    "from sklearn.preprocessing import PolynomialFeatures #importieren für Polynome\n",
    "\n",
    "\n",
    "\n",
    "#Lineare Funktion\n",
    "einwohner_model = LinearRegression() #Anlegen von Hülle für Lineare Regression, sodass auch andere Zellen darauf zugreifen können\n",
    "x = data['Jahr'].to_numpy().reshape(-1,1) #umformatieren der Spalten notwendig, da nur ein Merkmal mit mehreren Beobachtungen, eindimensionales Array erzeugt\n",
    "einwohner_model.fit(x, data['Einwohner']) #Modell wird angepasst, fit passt Parameter an \n",
    "r2_linear = einwohner_model.score(x, data['Einwohner']) #gibt das Bestimmtheitsmaß an, also wie gut Vorhersagen des Modells zu tatsächlichen Daten passt\n",
    "\n",
    "\n",
    "#Polynom 2. Grades\n",
    "x_scaled = StandardScaler().fit_transform(x) #notwendig beim arbeiten mit großen Zahlen\n",
    "quad_jahr = PolynomialFeatures(degree=2, include_bias=False).fit_transform(x_scaled) #erstellen der Polynome\n",
    "quad_einwohner_model = LinearRegression() #Objekt für Regression erstellen  \n",
    "quad_einwohner_model.fit(quad_jahr, data['Einwohner']) #Modell wird angepasst, fit passt Parameter an \n",
    "quad_einwohner_predict = quad_einwohner_model.predict(quad_jahr)\n",
    "r2_poly= quad_einwohner_model.score(quad_jahr, data['Einwohner']) #Bestimmtheitsmaß\n",
    "\n",
    "\n",
    "#Polynom 3. Grades\n",
    "three_jahr = PolynomialFeatures(degree=3, include_bias=False).fit_transform(x_scaled)\n",
    "three_einwohner_model = LinearRegression()\n",
    "three_einwohner_model.fit(three_jahr, data['Einwohner'])\n",
    "r_poly_3= three_einwohner_model.score(three_jahr, data['Einwohner'])\n",
    "\n",
    "\n",
    "#Polynom 6. Grades\n",
    "six_jahr = PolynomialFeatures(degree=6, include_bias=False).fit_transform(x_scaled)\n",
    "six_einwohner_model = LinearRegression()\n",
    "six_einwohner_model.fit(six_jahr, data['Einwohner'])\n",
    "r_sqr_q= six_einwohner_model.score(six_jahr, data['Einwohner'])\n",
    "\n",
    "\n",
    "#Logarithmusfunktion\n",
    "from scipy.optimize import curve_fit #importieren notwendig für Anpassung von nicht linearen Modelle an Daten\n",
    "def f_log(z, a0,a1): #definieren der Logarithmusfunktion\n",
    "    return a0*z+a1\n",
    "x_log = np.log(data['Jahr']) #Logarithmus anwenden auf die Werte der Spalte Jahr\n",
    "coefs_log, _ = curve_fit(f_log, x_log, data['Einwohner']) #anpassen der Parameter und zurückgeben der Koeffizienten\n",
    "intercept_log = coefs_log[1] #Achsenabschnitt \n",
    "y_mean = np.mean(data['Einwohner']) #Mittelwert berechnen\n",
    "log_predict = f_log(x_log, *coefs_log)\n",
    "sumsquared_e = np.sum((log_predict-y_mean)**2) #Summe der quadratischen Abweichungen zwischen Vorhergesagten Werten und dem Mittelwert\n",
    "sumsquared_t = np.sum((data['Einwohner']-y_mean)**2) #Summe der quadratischen Abweichungnen zwischen tatsächlichen Werten und dem Mittelwert\n",
    "r_squared_log = sumsquared_e/sumsquared_t #Bestimmtheitsmaß\n",
    "\n",
    "\n",
    "#Tabelle\n",
    "results = pd.DataFrame({\n",
    "    'Regressionstyp': ['Lineare Funktion', 'Polynom 2. Grades', 'Polynom 3. Grades', 'Polynom 6. Grades', 'Logarithmusfunktion'],\n",
    "    'Koeffizient': [einwohner_model.coef_[0].round(4), quad_einwohner_model.coef_.round(4), three_einwohner_model.coef_.round(2), six_einwohner_model.coef_.round(2), coefs_log.round(2)],\n",
    "    'Achsenabschnitt': [einwohner_model.intercept_.round(4), quad_einwohner_model.intercept_.round(4), three_einwohner_model.intercept_.round(4), six_einwohner_model.intercept_.round(4), intercept_log.round(4)],\n",
    "    'Bestimmtheitsmaß': [r2_linear.round(4), r2_poly.round(4), r_poly_3.round(4), r_sqr_q.round(4), r_squared_log.round(4)]\n",
    "})\n",
    "\n",
    "# Tabelle anzeigen\n",
    "results\n",
    "\n",
    "\n",
    "\n"
   ]
  },
  {
   "cell_type": "markdown",
   "id": "2aa1837a",
   "metadata": {},
   "source": [
    "## d) Beste Kurve wählen\n",
    "Wählen Sie aus den von Ihnen untersuchten Möglichkeiten die am besten geeignete Kurve. **Erläutern** Sie Ihre Wahl."
   ]
  },
  {
   "cell_type": "markdown",
   "id": "743d7660",
   "metadata": {},
   "source": [
    "#### Die beste Regressionskurve ist meiner Meinung nach, die des Polynom 2. Grades: \n",
    "- Polynom 2. Grades, 3. Grades und 6. Grades besitzen alle ein ähnlich hohes Bestimmtheitsmaß.\n",
    "- Jedoch ist die des 2. Grades, weniger komplex als die anderen beiden, da weniger Koeffizienten\n",
    "- Außerdem liefert die des 2. Grades die besten und realistischsten Prognosen, welche auch mit dem Ergebnis der Prognose für das Jahr 2030 übereinstimmen"
   ]
  },
  {
   "cell_type": "markdown",
   "id": "7bb70353",
   "metadata": {},
   "source": [
    "## e) Streudiagramm mit Regressionskurve\n",
    "Zeichnen Sie in das Streudiagramm die optimale Regressionskurve aus 4) ein. Dabei sollen auf der x-Achse die Jahreszahlen und auf der y-Achse die Bevölkerungszahl angegeben sein."
   ]
  },
  {
   "cell_type": "code",
   "execution_count": 17,
   "id": "9d17410f",
   "metadata": {},
   "outputs": [
    {
     "data": {
      "image/png": "[encoded data removed]",
      "text/plain": [
       "<Figure size 640x480 with 1 Axes>"
      ]
     },
     "metadata": {},
     "output_type": "display_data"
    }
   ],
   "source": [
    "#Regressionskurve des Polynom 2. Grades\n",
    "\n",
    "plt.xlabel('Jahr')\n",
    "plt.ylabel('Einwohner USA')\n",
    "plt.title('Steudiagramm mit Regressionskurve')\n",
    "\n",
    "plt.scatter(data['Jahr'], data['Einwohner'], marker='x')\n",
    "plt.plot(x,quad_einwohner_predict,color='red')\n",
    "plt.show()\n",
    "\n"
   ]
  },
  {
   "cell_type": "markdown",
   "id": "1c622a83",
   "metadata": {},
   "source": [
    "## f) Prognose für das Jahr 2030\n",
    "Berechnen Sie aus den Ihnen vorgelegten Daten eine Prognose über die Bevölkerungszahl der USA im Jahr 2030. **Erläutern** Sie Ihr Vorgehen.\n",
    "\n",
    "***Tipp:***<br>\n",
    "Beim Wert für die Prognose sollten Sie überlegen, ob Ihr Wert stimmen kann oder ob er nicht vielleicht völlig unrealistisch ist. <br>\n",
    "Der Grund für unrealistische Werte ist dabei evtl. gar nicht in der Wahl der Regressionsvariante zu suchen, sondern evtl. darin, dass numerische Probleme vorliegen und die geschätzten Koeffizienten mit zu wenigen Nachkommastellen verwendet werden!"
   ]
  },
  {
   "cell_type": "code",
   "execution_count": 18,
   "id": "b870918d",
   "metadata": {},
   "outputs": [
    {
     "name": "stdout",
     "output_type": "stream",
     "text": [
      "Vorhersage 2030, Polynom 2. Grades: 364.2455 Millionen.\n",
      "Vorhersage 2030, logarithmisch: 287.6156 Millionen.\n"
     ]
    }
   ],
   "source": [
    "# Polynom des 2. Grades\n",
    "# Funktion zur Berechnung der Vorhersage mit einem Polynom des 2. Grades\n",
    "def calculate_predict_2(x, a0, a1, a2): \n",
    "    return a0 + a1 * x + a2 * x**2\n",
    "# Daten für das Jahr 2030 standardisieren und in die Modellfunktion einsetzen\n",
    "x_2030_scaled = (2030 - np.mean(data['Jahr'])) / np.std(data['Jahr'])\n",
    "#Vorhersage für das Jahr 2030 berechnen mit dem quadratischen Modell\n",
    "predict_2 = calculate_predict_2(x_2030_scaled, quad_einwohner_model.intercept_, *quad_einwohner_model.coef_)\n",
    "print(f\"Vorhersage 2030, Polynom 2. Grades: {predict_2.round(4)} Millionen.\")\n",
    "\n",
    "\n",
    "\n",
    "# Logarithmische Funktion\n",
    "def f_log(z, a0, a1):\n",
    "    return a0 * z + a1\n",
    "\n",
    "#Logarithmische Vorhersage für das Jahr 2030\n",
    "x_log_2030 = np.log(2030)\n",
    "log_predict = f_log(x_log_2030, *coefs_log)\n",
    "print(f\"Vorhersage 2030, logarithmisch: {log_predict.round(4)} Millionen.\")\n",
    "\n",
    "\n"
   ]
  },
  {
   "cell_type": "markdown",
   "id": "f50d1737",
   "metadata": {},
   "source": [
    "#### Die geschätzte Einwohnerzahl im Jahr 2030 beträgt 364.245.471 Menschen.\n",
    "\n",
    "#### Verwenden des Polynom 2. Grades für die Prognose für das Jahr 2030:\n",
    "- Dieses Modell liefert als einziges plausible Werte und hat für die vorhandenen Werte auch ein hohes Bestimmtheitsmaß\n",
    "- Das Modell eignet sich gut, da es die beste Balance aus Komplexität und Genauigkeit bietet, was es auch am wenigsten fehleranfällig macht"
   ]
  },
  {
   "cell_type": "code",
   "execution_count": null,
   "id": "48f648d9",
   "metadata": {},
   "outputs": [],
   "source": []
  }
 ],
 "metadata": {
  "kernelspec": {
   "display_name": "Python 3 (ipykernel)",
   "language": "python",
   "name": "python3"
  },
  "language_info": {
   "codemirror_mode": {
    "name": "ipython",
    "version": 3
   },
   "file_extension": ".py",
   "mimetype": "text/x-python",
   "name": "python",
   "nbconvert_exporter": "python",
   "pygments_lexer": "ipython3",
   "version": "3.11.5"
  }
 },
 "nbformat": 4,
 "nbformat_minor": 5
}
